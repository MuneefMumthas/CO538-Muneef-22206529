{
  "nbformat": 4,
  "nbformat_minor": 0,
  "metadata": {
    "colab": {
      "provenance": [],
      "mount_file_id": "15tzQru3mgmjLIos0gQbwrySe-eY89MIk",
      "authorship_tag": "ABX9TyPJt3cDFeyXiWTzhKe32+/o",
      "include_colab_link": true
    },
    "kernelspec": {
      "name": "python3",
      "display_name": "Python 3"
    },
    "language_info": {
      "name": "python"
    }
  },
  "cells": [
    {
      "cell_type": "markdown",
      "metadata": {
        "id": "view-in-github",
        "colab_type": "text"
      },
      "source": [
        "<a href=\"https://colab.research.google.com/github/MuneefMumthas/CO538-Muneef-22206529/blob/main/CO538_CW1_MLProject_Muneef_22206529.ipynb\" target=\"_parent\"><img src=\"https://colab.research.google.com/assets/colab-badge.svg\" alt=\"Open In Colab\"/></a>"
      ]
    },
    {
      "cell_type": "markdown",
      "source": [
        "This is an .ipynb file for Machine Learning project for **CO538**.\n",
        "\n",
        "**Student Name:** Muneef Mumthas\n",
        "\n",
        "**Student ID:** 22206529\n",
        "\n",
        "**Course:** BSc (Hons) Artificial Intelligence with Foundation Year\n",
        "\n",
        "**Module:** CO538 - Machines And Their Languages"
      ],
      "metadata": {
        "id": "Cy4tkpj_hKYJ"
      }
    },
    {
      "cell_type": "code",
      "execution_count": null,
      "metadata": {
        "id": "6LG_t4S4gb_u"
      },
      "outputs": [],
      "source": []
    }
  ]
}